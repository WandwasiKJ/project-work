{
 "cells": [
  {
   "cell_type": "code",
   "execution_count": 11,
   "id": "44b8d0e9",
   "metadata": {},
   "outputs": [],
   "source": [
    "list = []\n",
    "list.append(\"https://edition.cnn.com/\")\n",
    "list.append(\"https://edition.cnn.com/world\")\n",
    "list.append(\"https://edition.cnn.com/politics\")\n",
    "list.append(\"https://edition.cnn.com/business\")\n"
   ]
  },
  {
   "cell_type": "code",
   "execution_count": null,
   "id": "556bcaa8",
   "metadata": {},
   "outputs": [
    {
     "data": {
      "text/plain": [
       "'https://edition.cnn.com/business'"
      ]
     },
     "execution_count": 4,
     "metadata": {},
     "output_type": "execute_result"
    }
   ],
   "source": [
    "list.pop()"
   ]
  },
  {
   "cell_type": "code",
   "execution_count": null,
   "id": "b5030c0e",
   "metadata": {},
   "outputs": [
    {
     "data": {
      "text/plain": [
       "'https://edition.cnn.com/politics'"
      ]
     },
     "execution_count": 5,
     "metadata": {},
     "output_type": "execute_result"
    }
   ],
   "source": [
    "list.pop()"
   ]
  },
  {
   "cell_type": "code",
   "execution_count": null,
   "id": "d5378861",
   "metadata": {},
   "outputs": [
    {
     "data": {
      "text/plain": [
       "'https://edition.cnn.com/world'"
      ]
     },
     "execution_count": 6,
     "metadata": {},
     "output_type": "execute_result"
    }
   ],
   "source": [
    "list.pop()"
   ]
  },
  {
   "cell_type": "code",
   "execution_count": null,
   "id": "48590557",
   "metadata": {},
   "outputs": [
    {
     "data": {
      "text/plain": [
       "'https://edition.cnn.com/'"
      ]
     },
     "execution_count": 7,
     "metadata": {},
     "output_type": "execute_result"
    }
   ],
   "source": [
    "list.pop()"
   ]
  },
  {
   "cell_type": "code",
   "execution_count": null,
   "id": "2430edf5",
   "metadata": {},
   "outputs": [
    {
     "ename": "IndexError",
     "evalue": "pop from empty list",
     "output_type": "error",
     "traceback": [
      "\u001b[31m---------------------------------------------------------------------------\u001b[39m",
      "\u001b[31mIndexError\u001b[39m                                Traceback (most recent call last)",
      "\u001b[36mCell\u001b[39m\u001b[36m \u001b[39m\u001b[32mIn[8]\u001b[39m\u001b[32m, line 1\u001b[39m\n\u001b[32m----> \u001b[39m\u001b[32m1\u001b[39m \u001b[38;5;28;43mlist\u001b[39;49m\u001b[43m.\u001b[49m\u001b[43mpop\u001b[49m\u001b[43m(\u001b[49m\u001b[43m)\u001b[49m\n",
      "\u001b[31mIndexError\u001b[39m: pop from empty list"
     ]
    }
   ],
   "source": [
    "list.pop()"
   ]
  },
  {
   "cell_type": "code",
   "execution_count": null,
   "id": "08e4035c",
   "metadata": {},
   "outputs": [],
   "source": []
  }
 ],
 "metadata": {
  "kernelspec": {
   "display_name": "Python 3",
   "language": "python",
   "name": "python3"
  },
  "language_info": {
   "codemirror_mode": {
    "name": "ipython",
    "version": 3
   },
   "file_extension": ".py",
   "mimetype": "text/x-python",
   "name": "python",
   "nbconvert_exporter": "python",
   "pygments_lexer": "ipython3",
   "version": "3.13.5"
  }
 },
 "nbformat": 4,
 "nbformat_minor": 5
}
