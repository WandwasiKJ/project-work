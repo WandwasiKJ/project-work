{
 "cells": [
  {
   "cell_type": "code",
   "execution_count": 9,
   "id": "d23ed11b",
   "metadata": {},
   "outputs": [],
   "source": [
    "# fluctuating coffee prices per 5 minutes\n",
    "coffee_prices_queue =[]\n",
    "coffee_prices_queue.insert(0,13500)\n",
    "coffee_prices_queue.insert(0,14000)\n",
    "coffee_prices_queue.insert(0,13000)\n"
   ]
  },
  {
   "cell_type": "code",
   "execution_count": 10,
   "id": "fb2d718e",
   "metadata": {},
   "outputs": [
    {
     "data": {
      "text/plain": [
       "[13000, 14000, 13500]"
      ]
     },
     "execution_count": 10,
     "metadata": {},
     "output_type": "execute_result"
    }
   ],
   "source": [
    "coffee_prices_queue"
   ]
  },
  {
   "cell_type": "code",
   "execution_count": 11,
   "id": "0c31f730",
   "metadata": {},
   "outputs": [
    {
     "data": {
      "text/plain": [
       "13500"
      ]
     },
     "execution_count": 11,
     "metadata": {},
     "output_type": "execute_result"
    }
   ],
   "source": [
    "coffee_prices_queue.pop()"
   ]
  },
  {
   "cell_type": "code",
   "execution_count": 12,
   "id": "f7fea544",
   "metadata": {},
   "outputs": [
    {
     "data": {
      "text/plain": [
       "14000"
      ]
     },
     "execution_count": 12,
     "metadata": {},
     "output_type": "execute_result"
    }
   ],
   "source": [
    "coffee_prices_queue.pop()"
   ]
  },
  {
   "cell_type": "code",
   "execution_count": 13,
   "id": "1af231e9",
   "metadata": {},
   "outputs": [
    {
     "data": {
      "text/plain": [
       "13000"
      ]
     },
     "execution_count": 13,
     "metadata": {},
     "output_type": "execute_result"
    }
   ],
   "source": [
    "coffee_prices_queue.pop()"
   ]
  },
  {
   "cell_type": "code",
   "execution_count": null,
   "id": "8afb0171",
   "metadata": {},
   "outputs": [],
   "source": [
    "# applying enqueue and dequeue\n",
    "from collections import deque\n",
    "q = deque()\n",
    "q.appendleft(89)\n",
    "q.appendleft(56)\n",
    "q.appendleft(12)"
   ]
  },
  {
   "cell_type": "code",
   "execution_count": 16,
   "id": "9e1dcad2",
   "metadata": {},
   "outputs": [
    {
     "data": {
      "text/plain": [
       "deque([12, 56, 89])"
      ]
     },
     "execution_count": 16,
     "metadata": {},
     "output_type": "execute_result"
    }
   ],
   "source": [
    "q"
   ]
  },
  {
   "cell_type": "code",
   "execution_count": 17,
   "id": "08394802",
   "metadata": {},
   "outputs": [
    {
     "data": {
      "text/plain": [
       "89"
      ]
     },
     "execution_count": 17,
     "metadata": {},
     "output_type": "execute_result"
    }
   ],
   "source": [
    "q.pop()"
   ]
  },
  {
   "cell_type": "code",
   "execution_count": 18,
   "id": "5b23c9ae",
   "metadata": {},
   "outputs": [
    {
     "data": {
      "text/plain": [
       "56"
      ]
     },
     "execution_count": 18,
     "metadata": {},
     "output_type": "execute_result"
    }
   ],
   "source": [
    "q.pop()"
   ]
  },
  {
   "cell_type": "code",
   "execution_count": null,
   "id": "bc5cf5a3",
   "metadata": {},
   "outputs": [],
   "source": [
    "#implementation of a proper queue class\n",
    "from collections import deque\n",
    "class Queue :\n",
    "    def enqueue (self,val):\n",
    "        self.buffer.appendleft(val)\n",
    "    def dequeue(self):\n",
    "        return self.buffer.pop()  \n",
    "    def __init__(self):\n",
    "        self.buffer=deque()  \n",
    "#BUFFER- the underlying storage structure that temporarily holds the elementsof the deque."
   ]
  },
  {
   "cell_type": "code",
   "execution_count": 24,
   "id": "763d23c9",
   "metadata": {},
   "outputs": [],
   "source": [
    "pq = Queue()\n",
    "pq.enqueue({\"coffee price at 9:00 am is shs.13500\"})\n",
    "pq.enqueue({\"coffee price at 9:05 am is shs.14000\"})\n",
    "pq.enqueue({\"coffee price at 9:10 am is shs.13000\"})\n"
   ]
  },
  {
   "cell_type": "code",
   "execution_count": 25,
   "id": "ce4b9571",
   "metadata": {},
   "outputs": [
    {
     "data": {
      "text/plain": [
       "deque([{'coffee price at 9:10 am is shs.13000'},\n",
       "       {'coffee price at 9:05 am is shs.14000'},\n",
       "       {'coffee price at 9:00 am is shs.13500'}])"
      ]
     },
     "execution_count": 25,
     "metadata": {},
     "output_type": "execute_result"
    }
   ],
   "source": [
    " pq.buffer"
   ]
  },
  {
   "cell_type": "code",
   "execution_count": 27,
   "id": "96af84f5",
   "metadata": {},
   "outputs": [
    {
     "data": {
      "text/plain": [
       "{'coffee price at 9:00 am is shs.13500'}"
      ]
     },
     "execution_count": 27,
     "metadata": {},
     "output_type": "execute_result"
    }
   ],
   "source": [
    "pq.dequeue()"
   ]
  },
  {
   "cell_type": "code",
   "execution_count": 28,
   "id": "999a41f7",
   "metadata": {},
   "outputs": [
    {
     "data": {
      "text/plain": [
       "{'coffee price at 9:05 am is shs.14000'}"
      ]
     },
     "execution_count": 28,
     "metadata": {},
     "output_type": "execute_result"
    }
   ],
   "source": [
    "pq.dequeue()"
   ]
  },
  {
   "cell_type": "code",
   "execution_count": null,
   "id": "c19b8573",
   "metadata": {},
   "outputs": [],
   "source": []
  }
 ],
 "metadata": {
  "kernelspec": {
   "display_name": "Python 3",
   "language": "python",
   "name": "python3"
  },
  "language_info": {
   "codemirror_mode": {
    "name": "ipython",
    "version": 3
   },
   "file_extension": ".py",
   "mimetype": "text/x-python",
   "name": "python",
   "nbconvert_exporter": "python",
   "pygments_lexer": "ipython3",
   "version": "3.13.5"
  }
 },
 "nbformat": 4,
 "nbformat_minor": 5
}
