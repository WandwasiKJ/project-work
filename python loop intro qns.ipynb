{
 "cells": [
  {
   "cell_type": "code",
   "execution_count": 3,
   "id": "80505b70",
   "metadata": {},
   "outputs": [
    {
     "name": "stdout",
     "output_type": "stream",
     "text": [
      "1\n",
      "2\n",
      "3\n",
      "4\n",
      "5\n",
      "6\n",
      "7\n",
      "8\n",
      "9\n",
      "10\n"
     ]
    }
   ],
   "source": [
    "for i in range(11):\n",
    "    if i == 0:\n",
    "        continue\n",
    "\n",
    "    print(i)"
   ]
  },
  {
   "cell_type": "code",
   "execution_count": 6,
   "id": "6c807c02",
   "metadata": {},
   "outputs": [
    {
     "name": "stdout",
     "output_type": "stream",
     "text": [
      "Numbers divisible by 8 and multiples of 6 between 2000 and 3200:\n",
      "[2016, 2040, 2064, 2088, 2112, 2136, 2160, 2184, 2208, 2232, 2256, 2280, 2304, 2328, 2352, 2376, 2400, 2424, 2448, 2472, 2496, 2520, 2544, 2568, 2592, 2616, 2640, 2664, 2688, 2712, 2736, 2760, 2784, 2808, 2832, 2856, 2880, 2904, 2928, 2952, 2976, 3000, 3024, 3048, 3072, 3096, 3120, 3144, 3168, 3192]\n"
     ]
    }
   ],
   "source": [
    "# Find numbers divisible by 8 and multiples of 6 between 2000 and 3200\n",
    "\n",
    "results = []\n",
    "for num in range(2000, 3201):\n",
    "    if num % 8 == 0 and num % 6 == 0:\n",
    "        results.append(num)\n",
    "\n",
    "print(\"Numbers divisible by 8 and multiples of 6 between 2000 and 3200:\")\n",
    "print(results)"
   ]
  },
  {
   "cell_type": "code",
   "execution_count": null,
   "id": "0daefa73",
   "metadata": {},
   "outputs": [
    {
     "name": "stdout",
     "output_type": "stream",
     "text": [
      "Try again!\n",
      "Try again!\n",
      "Try again!\n",
      "Try again!\n",
      "Try again!\n",
      "Try again!\n",
      "Try again!\n",
      "Try again!\n",
      "Try again!\n",
      "Try again!\n",
      "Well guessed!\n"
     ]
    }
   ],
   "source": [
    "#3)\n",
    "import random\n",
    "\n",
    "# Generate a random number between 1 and 20\n",
    "secret_number = random.randint(1, 20)\n",
    "\n",
    "while True:\n",
    "    # Prompt user for a guess\n",
    "    try:\n",
    "        guess = int(input(\"Guess a number between 1 and 20: \"))\n",
    "        if guess == secret_number:\n",
    "            print(\"Well guessed!\")\n",
    "            break\n",
    "        else:\n",
    "            print(\"Try again!\")\n",
    "    except ValueError:\n",
    "        print(\"Please enter a valid integer.\")\n"
   ]
  },
  {
   "cell_type": "code",
   "execution_count": null,
   "id": "85502d4d",
   "metadata": {},
   "outputs": [
    {
     "name": "stdout",
     "output_type": "stream",
     "text": [
      "The sum of numbers from 1 to 100 is: 5050\n"
     ]
    }
   ],
   "source": [
    "#4) Initialize variables\n",
    "total = 0\n",
    "number = 1\n",
    "\n",
    "# Loop until number exceeds 100\n",
    "while number <= 100:\n",
    "    total += number  # Add current number to total\n",
    "    number += 1      # Move to the next number\n",
    "\n",
    "print(\"The sum of numbers from 1 to 100 is:\", total)"
   ]
  },
  {
   "cell_type": "code",
   "execution_count": 3,
   "id": "9701bcc2",
   "metadata": {},
   "outputs": [
    {
     "name": "stdout",
     "output_type": "stream",
     "text": [
      "mango\n",
      "orange\n",
      "guava\n",
      "pineapple\n",
      "apple\n"
     ]
    }
   ],
   "source": [
    "#5)\n",
    "fruits=[\"mango\",\"orange\",\"guava\",\"pineapple\",\"apple\"]\n",
    "for i in fruits:\n",
    "    print(i)"
   ]
  },
  {
   "cell_type": "code",
   "execution_count": null,
   "id": "539b77be",
   "metadata": {},
   "outputs": [],
   "source": [
    "#6\n",
    "suggested_no=0\n",
    "while True:\n",
    "    try:\n",
    "        guess=int(input(\"Enter a number:\"))\n",
    "        if guess== suggested_no:\n",
    "            print(\"correct number\")\n",
    "            break\n",
    "        else:\n",
    "            print(\"try again!\")\n",
    "    except ValueError:\n",
    "        print(\"Please enter a valid integer.\")"
   ]
  },
  {
   "cell_type": "code",
   "execution_count": 1,
   "id": "b035ca63",
   "metadata": {},
   "outputs": [
    {
     "name": "stdout",
     "output_type": "stream",
     "text": [
      "There are 10 even numbers between 1 and 20.\n"
     ]
    }
   ],
   "source": [
    "#7\n",
    "# Initialize counter\n",
    "even_count = 0\n",
    "\n",
    "# Loop through numbers 1 to 20\n",
    "for num in range(1, 21):\n",
    "    if num % 2 == 0:\n",
    "        even_count += 1\n",
    "\n",
    "print(\"There are\", even_count, \"even numbers between 1 and 20.\")"
   ]
  },
  {
   "cell_type": "code",
   "execution_count": 2,
   "id": "d65c5e80",
   "metadata": {},
   "outputs": [
    {
     "name": "stdout",
     "output_type": "stream",
     "text": [
      "P\n",
      "y\n",
      "t\n",
      "h\n",
      "o\n",
      "n\n"
     ]
    }
   ],
   "source": [
    "#8\n",
    "# String to iterate through\n",
    "word = \"Python\"\n",
    "\n",
    "# Loop through each character in the string\n",
    "for character in word:\n",
    "    print(character)"
   ]
  },
  {
   "cell_type": "code",
   "execution_count": 3,
   "id": "37558f62",
   "metadata": {},
   "outputs": [
    {
     "name": "stdout",
     "output_type": "stream",
     "text": [
      "1\n",
      "2\n",
      "3\n",
      "4\n",
      "6\n",
      "7\n",
      "8\n",
      "9\n",
      "10\n"
     ]
    }
   ],
   "source": [
    "#9\n",
    "# Loop through numbers from 1 to 10\n",
    "for num in range(1, 11):\n",
    "    if num == 5:\n",
    "        continue  # Skip the rest of the loop for number 5\n",
    "    print(num)"
   ]
  },
  {
   "cell_type": "code",
   "execution_count": 10,
   "id": "2e97472d",
   "metadata": {},
   "outputs": [
    {
     "name": "stdout",
     "output_type": "stream",
     "text": [
      "2016\n",
      "2040\n",
      "2064\n",
      "2088\n",
      "2112\n",
      "2136\n",
      "2160\n",
      "2184\n",
      "2208\n",
      "2232\n",
      "2256\n",
      "2280\n",
      "2304\n",
      "2328\n",
      "2352\n",
      "2376\n",
      "2400\n",
      "2424\n",
      "2448\n",
      "2472\n",
      "2496\n",
      "2520\n",
      "2544\n",
      "2568\n",
      "2592\n",
      "2616\n",
      "2640\n",
      "2664\n",
      "2688\n",
      "2712\n",
      "2736\n",
      "2760\n",
      "2784\n",
      "2808\n",
      "2832\n",
      "2856\n",
      "2880\n",
      "2904\n",
      "2928\n",
      "2952\n",
      "2976\n",
      "3000\n",
      "3024\n",
      "3048\n",
      "3072\n",
      "3096\n",
      "3120\n",
      "3144\n",
      "3168\n",
      "3192\n"
     ]
    }
   ],
   "source": [
    "#SET TWO\n",
    "#1)BEGINNER LEVEL\n",
    "\n",
    "for i in range(2000,3201):\n",
    "    if i % 8 ==0 and i % 6 ==0:\n",
    "       print(i)\n",
    "    else:\n",
    "        pass"
   ]
  },
  {
   "cell_type": "code",
   "execution_count": 12,
   "id": "1a56767b",
   "metadata": {},
   "outputs": [
    {
     "name": "stdout",
     "output_type": "stream",
     "text": [
      "#\n",
      "##\n",
      "###\n",
      "####\n",
      "#####\n",
      "####\n",
      "###\n",
      "##\n",
      "#\n"
     ]
    }
   ],
   "source": [
    "# Number of maximum rows in the first half\n",
    "n = 5\n",
    "\n",
    "# Print the top half of the pattern\n",
    "for i in range(1, n + 1):\n",
    "    for j in range(i):\n",
    "        print('#', end='')\n",
    "    print()\n",
    "\n",
    "# Print the bottom half of the pattern\n",
    "for i in range(n - 1, 0, -1):\n",
    "    for j in range(i):\n",
    "        print('#', end='')\n",
    "    print()"
   ]
  },
  {
   "cell_type": "markdown",
   "id": "5298d30f",
   "metadata": {},
   "source": []
  }
 ],
 "metadata": {
  "kernelspec": {
   "display_name": "Python 3",
   "language": "python",
   "name": "python3"
  },
  "language_info": {
   "codemirror_mode": {
    "name": "ipython",
    "version": 3
   },
   "file_extension": ".py",
   "mimetype": "text/x-python",
   "name": "python",
   "nbconvert_exporter": "python",
   "pygments_lexer": "ipython3",
   "version": "3.13.5"
  }
 },
 "nbformat": 4,
 "nbformat_minor": 5
}
