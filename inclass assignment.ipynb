{
 "cells": [
  {
   "cell_type": "code",
   "execution_count": null,
   "id": "ebd2c0c4",
   "metadata": {},
   "outputs": [],
   "source": [
    "1.  i).A series is a one-dimensional labeled array while a data frame is a two-dimensional labeled array.\n",
    "    ii).A series holds data of a single data type while a data frame contains columns with different data types.\n",
    "    ii). A series are suitable for operations on a single set of values while a dataframe offers more extensive functionalities for handling tabularr data."
   ]
  },
  {
   "cell_type": "markdown",
   "id": "84ce0cd4",
   "metadata": {},
   "source": [
    "2. i).loc[] selects data using row and column labels while .iloc[] uses numerical positions.e.g.\n",
    "\n",
    "\n",
    "year state pop\n",
    "A 2000 Ohio 1.5\n",
    "B 2001 Ohio 1.7\n",
    "C 2002 Ohio 3.6\n",
    "D 2001 Nevada 2.4\n",
    "E 2002 Nevada 2.9\n",
    "\n",
    "df.loc['c']\n",
    "df.iloc[3]    \n"
   ]
  },
  {
   "cell_type": "markdown",
   "id": "4c41203f",
   "metadata": {},
   "source": [
    "3. i) numpy arrays are highly optimised for numerical computations and mathematical operations due to their homogenous nature while python lists are less efficient for numerical computations especially on large databases as operations require explicit looping and lack the vectorised optimizations of numpy.\n",
    "  ii) numpy arrays are more memory efficient than python lists particularly for large datasets because they store    elements of a fixed data type in continuous memory blocks reducing memory overhead while in python lists each element is stored as a seperate object with its own associated meta data, leading to higher memory consumption."
   ]
  },
  {
   "cell_type": "markdown",
   "id": "2b19d20b",
   "metadata": {},
   "source": [
    "4. isnull() function is used to detect missing values within a series or dataframe.\n",
    "   notnull() function is used to detect existing values within aseries or dataframe.\n",
    "   fillna() function is useed to replace missing values in a dataframe or series."
   ]
  },
  {
   "cell_type": "markdown",
   "id": "d8cfca61",
   "metadata": {},
   "source": [
    "5. broadcasting enables the element wise operation of arrays without making unnecessary copies of data, thereby enhancing perfomance and memory efficiency."
   ]
  },
  {
   "cell_type": "markdown",
   "id": "ccc2835b",
   "metadata": {},
   "source": [
    "SECTION B"
   ]
  },
  {
   "cell_type": "code",
   "execution_count": 6,
   "id": "367794a2",
   "metadata": {},
   "outputs": [],
   "source": [
    "from pandas import Series, DataFrame\n",
    "import pandas as pd"
   ]
  },
  {
   "cell_type": "code",
   "execution_count": 12,
   "id": "df7e2055",
   "metadata": {},
   "outputs": [
    {
     "name": "stdout",
     "output_type": "stream",
     "text": [
      "4\n",
      "99\n",
      "A      16\n",
      "B     400\n",
      "C    5184\n",
      "D    9801\n",
      "E    2916\n",
      "F     484\n",
      "G    2704\n",
      "H    1681\n",
      "I     256\n",
      "J     576\n",
      "dtype: int64\n",
      "41\n"
     ]
    },
    {
     "name": "stderr",
     "output_type": "stream",
     "text": [
      "C:\\Users\\HP\\AppData\\Local\\Temp\\ipykernel_18448\\3696590179.py:5: FutureWarning: Series.__getitem__ treating keys as positions is deprecated. In a future version, integer keys will always be treated as labels (consistent with DataFrame behavior). To access a value by position, use `ser.iloc[pos]`\n",
      "  print(obj2[-3])\n"
     ]
    }
   ],
   "source": [
    "obj2 = Series([4, 20, 72, 99, 54, 22, 52, 41, 16, 24], index=['A', 'B', 'C', 'D', 'E', 'F','G','H','I','J'])\n",
    "print(obj2.min())\n",
    "print(obj2.max())\n",
    "print(obj2**2)\n",
    "print(obj2[-3])"
   ]
  }
 ],
 "metadata": {
  "kernelspec": {
   "display_name": "Python 3",
   "language": "python",
   "name": "python3"
  },
  "language_info": {
   "codemirror_mode": {
    "name": "ipython",
    "version": 3
   },
   "file_extension": ".py",
   "mimetype": "text/x-python",
   "name": "python",
   "nbconvert_exporter": "python",
   "pygments_lexer": "ipython3",
   "version": "3.13.5"
  }
 },
 "nbformat": 4,
 "nbformat_minor": 5
}
