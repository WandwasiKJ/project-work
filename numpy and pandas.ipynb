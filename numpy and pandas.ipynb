{
 "cells": [
  {
   "cell_type": "code",
   "execution_count": 4,
   "id": "76761283",
   "metadata": {},
   "outputs": [],
   "source": [
    "from pandas import Series, DataFrame\n",
    "import pandas as pd"
   ]
  },
  {
   "cell_type": "code",
   "execution_count": 5,
   "id": "40fe94c6",
   "metadata": {},
   "outputs": [
    {
     "name": "stdout",
     "output_type": "stream",
     "text": [
      "d    4\n",
      "b    7\n",
      "a   -5\n",
      "c    3\n",
      "dtype: int64\n"
     ]
    }
   ],
   "source": [
    "obj2 = Series([4, 7, -5, 3], index=['d', 'b', 'a', 'c'])\n",
    "print(obj2)"
   ]
  },
  {
   "cell_type": "code",
   "execution_count": 6,
   "id": "f666c1cb",
   "metadata": {},
   "outputs": [
    {
     "name": "stdout",
     "output_type": "stream",
     "text": [
      "d    10\n",
      "c     3\n",
      "a    -5\n",
      "dtype: int64\n"
     ]
    }
   ],
   "source": [
    "obj2['d']= 10\n",
    "print(obj2[['d', 'c', 'a']])"
   ]
  },
  {
   "cell_type": "code",
   "execution_count": 7,
   "id": "c6915824",
   "metadata": {},
   "outputs": [
    {
     "name": "stdout",
     "output_type": "stream",
     "text": [
      "Index(['d', 'b', 'a', 'c'], dtype='object')\n"
     ]
    }
   ],
   "source": [
    "print(obj2.index)"
   ]
  },
  {
   "cell_type": "code",
   "execution_count": 8,
   "id": "670706b7",
   "metadata": {},
   "outputs": [
    {
     "name": "stdout",
     "output_type": "stream",
     "text": [
      "[10  7 -5  3]\n"
     ]
    }
   ],
   "source": [
    "print(obj2.values)\n"
   ]
  },
  {
   "cell_type": "code",
   "execution_count": 9,
   "id": "e3efbb80",
   "metadata": {},
   "outputs": [
    {
     "name": "stdout",
     "output_type": "stream",
     "text": [
      "d    10\n",
      "b     7\n",
      "dtype: int64\n"
     ]
    }
   ],
   "source": [
    "print(obj2[:2])"
   ]
  },
  {
   "cell_type": "code",
   "execution_count": 10,
   "id": "76161ea8",
   "metadata": {},
   "outputs": [
    {
     "name": "stdout",
     "output_type": "stream",
     "text": [
      "-5\n"
     ]
    }
   ],
   "source": [
    "print(obj2.a)\n"
   ]
  },
  {
   "cell_type": "code",
   "execution_count": 11,
   "id": "dc9f1311",
   "metadata": {},
   "outputs": [
    {
     "name": "stdout",
     "output_type": "stream",
     "text": [
      "d    4\n",
      "b    7\n",
      "a   -5\n",
      "c    3\n",
      "dtype: int64\n"
     ]
    }
   ],
   "source": [
    "obj3 = Series({'d': 4, 'b': 7, 'a': -5, 'c':3 })\n",
    "print(obj3)"
   ]
  },
  {
   "cell_type": "code",
   "execution_count": 12,
   "id": "b8b2b1db",
   "metadata": {},
   "outputs": [
    {
     "name": "stdout",
     "output_type": "stream",
     "text": [
      "d    4\n",
      "b    7\n",
      "c    3\n",
      "dtype: int64\n"
     ]
    }
   ],
   "source": [
    "obj4 = obj3[obj3>0]\n",
    "print(obj4)\n"
   ]
  },
  {
   "cell_type": "code",
   "execution_count": 13,
   "id": "e5aa6621",
   "metadata": {},
   "outputs": [
    {
     "name": "stdout",
     "output_type": "stream",
     "text": [
      "d    16\n",
      "b    49\n",
      "a    25\n",
      "c     9\n",
      "dtype: int64\n"
     ]
    }
   ],
   "source": [
    "print(obj3**2)"
   ]
  },
  {
   "cell_type": "code",
   "execution_count": 15,
   "id": "c4084f4a",
   "metadata": {},
   "outputs": [
    {
     "name": "stdout",
     "output_type": "stream",
     "text": [
      "Texas     10.0\n",
      "Oregon    15.0\n",
      "Ohio      20.0\n",
      "Iowa       NaN\n",
      "dtype: float64\n"
     ]
    }
   ],
   "source": [
    "sdata = {'Texas': 10, 'Ohio': 20, 'Oregon': 15, 'Utah': 18}\n",
    "states = {'Texas', 'Ohio', 'Oregon', 'Iowa'}\n",
    "obj4 = Series(sdata, index=states)\n",
    "print(obj4)"
   ]
  },
  {
   "cell_type": "code",
   "execution_count": 16,
   "id": "6e214925",
   "metadata": {},
   "outputs": [
    {
     "name": "stdout",
     "output_type": "stream",
     "text": [
      "Texas     10.0\n",
      "Ohio      20.0\n",
      "Oregon    15.0\n",
      "Iowa       NaN\n",
      "dtype: float64\n"
     ]
    }
   ],
   "source": [
    "sdata = {'Texas': 10, 'Ohio': 20, 'Oregon': 15, 'Utah': 18}\n",
    "states = ['Texas', 'Ohio', 'Oregon', 'Iowa']\n",
    "obj4 = Series(sdata, index=states)\n",
    "print(obj4)"
   ]
  },
  {
   "cell_type": "code",
   "execution_count": 17,
   "id": "dc690255",
   "metadata": {},
   "outputs": [
    {
     "name": "stdout",
     "output_type": "stream",
     "text": [
      "Texas     10\n",
      "Ohio      20\n",
      "Oregon    15\n",
      "Utah      18\n",
      "dtype: int64\n"
     ]
    }
   ],
   "source": [
    "sdata = {'Texas': 10, 'Ohio': 20, 'Oregon': 15, 'Utah': 18}\n",
    "states = ['Texas', 'Ohio', 'Oregon', 'Utah']\n",
    "obj5 = Series(sdata, index=states)\n",
    "print(obj5)"
   ]
  },
  {
   "cell_type": "code",
   "execution_count": 18,
   "id": "9495e342",
   "metadata": {},
   "outputs": [
    {
     "name": "stdout",
     "output_type": "stream",
     "text": [
      "state\n",
      "Texas     10.0\n",
      "Ohio      20.0\n",
      "Oregon    15.0\n",
      "Iowa       NaN\n",
      "Name: population, dtype: float64\n"
     ]
    }
   ],
   "source": [
    "sdata = {'Texas': 10, 'Ohio': 20, 'Oregon': 15, 'Utah': 18}\n",
    "states = ['Texas', 'Ohio', 'Oregon', 'Iowa']\n",
    "obj4 = Series(sdata, index=states)\n",
    "obj4.name = 'population'\n",
    "obj4.index.name = 'state'\n",
    "print(obj4)"
   ]
  },
  {
   "cell_type": "code",
   "execution_count": 19,
   "id": "b4a879e9",
   "metadata": {},
   "outputs": [],
   "source": [
    "obj4.index = ['Florida', 'New York', 'Kentucky', 'Georgia']"
   ]
  },
  {
   "cell_type": "code",
   "execution_count": 20,
   "id": "955200f9",
   "metadata": {},
   "outputs": [
    {
     "name": "stdout",
     "output_type": "stream",
     "text": [
      "2\n"
     ]
    }
   ],
   "source": [
    "S = Series(range(4), index=['zero', 'one', 'two', 'three'])\n",
    "print(S['two'])\n"
   ]
  },
  {
   "cell_type": "code",
   "execution_count": 21,
   "id": "5966bf1e",
   "metadata": {},
   "outputs": [
    {
     "name": "stdout",
     "output_type": "stream",
     "text": [
      "zero    0\n",
      "two     2\n",
      "dtype: int64\n"
     ]
    }
   ],
   "source": [
    "print(S[['zero', 'two']])"
   ]
  },
  {
   "cell_type": "code",
   "execution_count": 22,
   "id": "72217e8a",
   "metadata": {},
   "outputs": [
    {
     "name": "stdout",
     "output_type": "stream",
     "text": [
      "zero    0\n",
      "one     1\n",
      "dtype: int64\n"
     ]
    }
   ],
   "source": [
    "S = Series(range(4), index=['zero', 'one', 'two', 'three'])\n",
    "print(S[:2])"
   ]
  },
  {
   "cell_type": "code",
   "execution_count": 23,
   "id": "1c57af65",
   "metadata": {},
   "outputs": [
    {
     "name": "stdout",
     "output_type": "stream",
     "text": [
      "    state  year  pop\n",
      "0    Ohio  2000  1.5\n",
      "1    Ohio  2001  1.7\n",
      "2    Ohio  2002  3.6\n",
      "3  Nevada  2001  2.4\n",
      "4  Nevada  2002  2.9\n"
     ]
    }
   ],
   "source": [
    "data = {'state': ['Ohio', 'Ohio', 'Ohio', 'Nevada', 'Nevada'],\n",
    "'year': [2000, 2001, 2002, 2001, 2002],\n",
    "'pop': [1.5, 1.7, 3.6, 2.4, 2.9]}\n",
    "frame = DataFrame(data)\n",
    "print(frame)"
   ]
  },
  {
   "cell_type": "code",
   "execution_count": 24,
   "id": "5c328256",
   "metadata": {},
   "outputs": [
    {
     "name": "stdout",
     "output_type": "stream",
     "text": [
      "      Nevada  Ohio\n",
      "2001     2.9   1.7\n",
      "2002     2.9   3.6\n",
      "2000     NaN   1.5\n"
     ]
    }
   ],
   "source": [
    "pop = {'Nevada': {2001: 2.9, 2002: 2.9}, 'Ohio': {2002: 3.6, 2001: 1.7, 2000: 1.5}}\n",
    "frame3 = DataFrame(pop)\n",
    "print(frame3)\n"
   ]
  },
  {
   "cell_type": "code",
   "execution_count": 26,
   "id": "3482c103",
   "metadata": {},
   "outputs": [
    {
     "name": "stdout",
     "output_type": "stream",
     "text": [
      "state  Nevada  Ohio\n",
      "year               \n",
      "2001      2.9   1.7\n",
      "2002      2.9   3.6\n",
      "2000      NaN   1.5\n"
     ]
    }
   ],
   "source": [
    "frame3.index.name = 'year'\n",
    "frame3.columns.name='state'\n",
    "print(frame3)\n"
   ]
  },
  {
   "cell_type": "code",
   "execution_count": 27,
   "id": "ab9b61b9",
   "metadata": {},
   "outputs": [
    {
     "name": "stdout",
     "output_type": "stream",
     "text": [
      "0      Ohio\n",
      "1      Ohio\n",
      "2      Ohio\n",
      "3    Nevada\n",
      "4    Nevada\n",
      "Name: state, dtype: object\n"
     ]
    }
   ],
   "source": [
    "data = {'state': ['Ohio', 'Ohio', 'Ohio', 'Nevada', 'Nevada'],\n",
    "'year': [2000, 2001, 2002, 2001, 2002],\n",
    "'pop': [1.5, 1.7, 3.6, 2.4, 2.9]}\n",
    "frame = DataFrame(data)\n",
    "print(frame['state'])\n"
   ]
  },
  {
   "cell_type": "code",
   "execution_count": 28,
   "id": "a8710611",
   "metadata": {},
   "outputs": [
    {
     "name": "stdout",
     "output_type": "stream",
     "text": [
      "   year   state  pop debt\n",
      "A  2000    Ohio  1.5  NaN\n",
      "B  2001    Ohio  1.7  NaN\n",
      "C  2002    Ohio  3.6  NaN\n",
      "D  2001  Nevada  2.4  NaN\n",
      "E  2002  Nevada  2.9  NaN\n"
     ]
    }
   ],
   "source": [
    "data = {'state': ['Ohio', 'Ohio', 'Ohio', 'Nevada', 'Nevada'],\n",
    "'year': [2000, 2001, 2002, 2001, 2002],\n",
    "'pop': [1.5, 1.7, 3.6, 2.4, 2.9]}\n",
    "frame2 = DataFrame(data, columns=['year', 'state', 'pop', 'debt'], index=['A', 'B', 'C', 'D', 'E'])\n",
    "print(frame2)"
   ]
  },
  {
   "cell_type": "code",
   "execution_count": 1,
   "id": "d26f5f75",
   "metadata": {},
   "outputs": [
    {
     "ename": "NameError",
     "evalue": "name 'DataFrame' is not defined",
     "output_type": "error",
     "traceback": [
      "\u001b[31m---------------------------------------------------------------------------\u001b[39m",
      "\u001b[31mNameError\u001b[39m                                 Traceback (most recent call last)",
      "\u001b[36mCell\u001b[39m\u001b[36m \u001b[39m\u001b[32mIn[1]\u001b[39m\u001b[32m, line 4\u001b[39m\n\u001b[32m      1\u001b[39m data = {\u001b[33m'\u001b[39m\u001b[33mstate\u001b[39m\u001b[33m'\u001b[39m: [\u001b[33m'\u001b[39m\u001b[33mOhio\u001b[39m\u001b[33m'\u001b[39m, \u001b[33m'\u001b[39m\u001b[33mOhio\u001b[39m\u001b[33m'\u001b[39m, \u001b[33m'\u001b[39m\u001b[33mOhio\u001b[39m\u001b[33m'\u001b[39m, \u001b[33m'\u001b[39m\u001b[33mNevada\u001b[39m\u001b[33m'\u001b[39m, \u001b[33m'\u001b[39m\u001b[33mNevada\u001b[39m\u001b[33m'\u001b[39m],\n\u001b[32m      2\u001b[39m \u001b[33m'\u001b[39m\u001b[33myear\u001b[39m\u001b[33m'\u001b[39m: [\u001b[32m2000\u001b[39m, \u001b[32m2001\u001b[39m, \u001b[32m2002\u001b[39m, \u001b[32m2001\u001b[39m, \u001b[32m2002\u001b[39m],\n\u001b[32m      3\u001b[39m \u001b[33m'\u001b[39m\u001b[33mpop\u001b[39m\u001b[33m'\u001b[39m: [\u001b[32m1.5\u001b[39m, \u001b[32m1.7\u001b[39m, \u001b[32m3.6\u001b[39m, \u001b[32m2.4\u001b[39m, \u001b[32m2.9\u001b[39m]}\n\u001b[32m----> \u001b[39m\u001b[32m4\u001b[39m frame2 = \u001b[43mDataFrame\u001b[49m(data, columns=[\u001b[33m'\u001b[39m\u001b[33myear\u001b[39m\u001b[33m'\u001b[39m, \u001b[33m'\u001b[39m\u001b[33mstate\u001b[39m\u001b[33m'\u001b[39m, \u001b[33m'\u001b[39m\u001b[33mpop\u001b[39m\u001b[33m'\u001b[39m, \u001b[33m'\u001b[39m\u001b[33mdebt\u001b[39m\u001b[33m'\u001b[39m], index=[\u001b[33m'\u001b[39m\u001b[33mA\u001b[39m\u001b[33m'\u001b[39m, \u001b[33m'\u001b[39m\u001b[33mB\u001b[39m\u001b[33m'\u001b[39m, \u001b[33m'\u001b[39m\u001b[33mC\u001b[39m\u001b[33m'\u001b[39m, \u001b[33m'\u001b[39m\u001b[33mD\u001b[39m\u001b[33m'\u001b[39m, \u001b[33m'\u001b[39m\u001b[33mE\u001b[39m\u001b[33m'\u001b[39m])\n\u001b[32m      5\u001b[39m \u001b[38;5;28mprint\u001b[39m(frame2)\n",
      "\u001b[31mNameError\u001b[39m: name 'DataFrame' is not defined"
     ]
    }
   ],
   "source": [
    "data = {'state': ['Ohio', 'Ohio', 'Ohio', 'Nevada', 'Nevada'],\n",
    "'year': [2000, 2001, 2002, 2001, 2002],\n",
    "'pop': [1.5, 1.7, 3.6, 2.4, 2.9]}\n",
    "frame2 = DataFrame(data, columns=['year', 'state', 'pop', 'debt'], index=['A', 'B', 'C', 'D', 'E'])\n",
    "print(frame2)"
   ]
  }
 ],
 "metadata": {
  "kernelspec": {
   "display_name": "Python 3",
   "language": "python",
   "name": "python3"
  },
  "language_info": {
   "codemirror_mode": {
    "name": "ipython",
    "version": 3
   },
   "file_extension": ".py",
   "mimetype": "text/x-python",
   "name": "python",
   "nbconvert_exporter": "python",
   "pygments_lexer": "ipython3",
   "version": "3.13.5"
  }
 },
 "nbformat": 4,
 "nbformat_minor": 5
}
