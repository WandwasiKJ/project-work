{
 "cells": [
  {
   "cell_type": "code",
   "execution_count": 1,
   "id": "201aaaf7",
   "metadata": {},
   "outputs": [
    {
     "name": "stdout",
     "output_type": "stream",
     "text": [
      "new value is :10\n",
      "new value is :9\n",
      "new value is :8\n",
      "new value is :7\n",
      "new value is :6\n",
      "new value is :4\n",
      "new value is :2\n",
      "new value is :1\n"
     ]
    }
   ],
   "source": [
    "# we want to count down from 1 to 10 except 3 and 5\n",
    "\n",
    "n=10\n",
    "while n>0:\n",
    "    if n==3 or n==5:\n",
    "        pass\n",
    "    else:\n",
    "        print(f'new value is :{n}')\n",
    "    n=n-1"
   ]
  },
  {
   "cell_type": "code",
   "execution_count": null,
   "id": "42ec83f1",
   "metadata": {},
   "outputs": [
    {
     "name": "stdout",
     "output_type": "stream",
     "text": [
      "1\n",
      "2\n",
      "4\n",
      "6\n",
      "7\n",
      "8\n",
      "9\n",
      "10\n"
     ]
    }
   ],
   "source": [
    "# we want use the continue function\n",
    "n=1\n",
    "while n<= 10:\n",
    "    if n==3 or n==5:\n",
    "        n+=1\n",
    "        continue\n",
    "    print(n)\n",
    "    n +=1 #n = n+1"
   ]
  },
  {
   "cell_type": "code",
   "execution_count": 7,
   "id": "8e56a7e7",
   "metadata": {},
   "outputs": [
    {
     "name": "stdout",
     "output_type": "stream",
     "text": [
      "apple\n",
      "tomato\n",
      "mango\n"
     ]
    }
   ],
   "source": [
    "# the four loop\n",
    "for i in [\"apple\", \"tomato\", \"mango\"]:\n",
    "    print(i)"
   ]
  },
  {
   "cell_type": "code",
   "execution_count": 9,
   "id": "ae6aabe5",
   "metadata": {},
   "outputs": [
    {
     "name": "stdout",
     "output_type": "stream",
     "text": [
      "0\n",
      "1\n",
      "2\n",
      "3\n",
      "4\n",
      "5\n"
     ]
    }
   ],
   "source": [
    "# the four loop\n",
    "\n",
    "for i in range (6):\n",
    "    print(i)"
   ]
  },
  {
   "cell_type": "code",
   "execution_count": 12,
   "id": "750d94bd",
   "metadata": {},
   "outputs": [
    {
     "name": "stdout",
     "output_type": "stream",
     "text": [
      "0\n",
      "1\n",
      "2\n",
      "4\n",
      "4\n",
      "6\n",
      "6\n",
      "7\n",
      "8\n",
      "9\n",
      "10\n"
     ]
    }
   ],
   "source": [
    "# using continue function print 0 - 10, except 3 and 5\n",
    "for i in range (11):\n",
    "    if i==3 or i==5:\n",
    "         i=i+1\n",
    "         pass\n",
    "    print(i)\n",
    "    i=i+1"
   ]
  },
  {
   "cell_type": "code",
   "execution_count": 1,
   "id": "a2eb442c",
   "metadata": {},
   "outputs": [
    {
     "name": "stdout",
     "output_type": "stream",
     "text": [
      "hello world 1\n",
      "hello world 2\n",
      "hello world 3\n",
      "hello world 4\n",
      "hello world 5\n",
      "hello world 6\n",
      "hello world 7\n"
     ]
    }
   ],
   "source": [
    "#four loops\n",
    "for i in range (1,8):\n",
    "    print(f\"hello world {i}\")\n",
    "    "
   ]
  },
  {
   "cell_type": "code",
   "execution_count": null,
   "id": "666572f7",
   "metadata": {},
   "outputs": [
    {
     "name": "stdout",
     "output_type": "stream",
     "text": [
      "hello world 1\n",
      "hello world 3\n",
      "hello world 5\n",
      "hello world 7\n"
     ]
    }
   ],
   "source": [
    "#four loops with default argument\n",
    "for i in range (1,8,2):#2 is the default argument\n",
    "    print(f\"hello world {i}\")"
   ]
  },
  {
   "cell_type": "code",
   "execution_count": 3,
   "id": "320cbde5",
   "metadata": {},
   "outputs": [
    {
     "name": "stdout",
     "output_type": "stream",
     "text": [
      "hello world 1\n",
      "UCU\n",
      "UCU\n",
      "UCU\n",
      "UCU\n",
      "hello world 2\n",
      "UCU\n",
      "UCU\n",
      "UCU\n",
      "UCU\n",
      "hello world 3\n",
      "UCU\n",
      "UCU\n",
      "UCU\n",
      "UCU\n",
      "hello world 4\n",
      "UCU\n",
      "UCU\n",
      "UCU\n",
      "UCU\n"
     ]
    }
   ],
   "source": [
    "#four loops with default argument\n",
    "for i in range (1,5,1):\n",
    "    print(f\"hello world {i}\")\n",
    "    for j in range (6,10,1):\n",
    "        print(f\"UCU\")"
   ]
  },
  {
   "cell_type": "code",
   "execution_count": 4,
   "id": "6d9388d0",
   "metadata": {},
   "outputs": [
    {
     "name": "stdout",
     "output_type": "stream",
     "text": [
      "hello world 1\n",
      "hello world 2\n",
      "hello world 3\n",
      "hello world 4\n",
      "UCU\n",
      "UCU\n",
      "UCU\n",
      "UCU\n"
     ]
    }
   ],
   "source": [
    "#four loops with default argument\n",
    "for i in range (1,5,1):\n",
    "    print(f\"hello world {i}\")\n",
    "for j in range (6,10,1):\n",
    "        print(f\"UCU\")"
   ]
  },
  {
   "cell_type": "code",
   "execution_count": null,
   "id": "aeddd3ef",
   "metadata": {},
   "outputs": [
    {
     "name": "stdout",
     "output_type": "stream",
     "text": [
      "Peter\n",
      "Peter\n",
      "Peter\n",
      "Peter\n"
     ]
    }
   ],
   "source": [
    "name= \"Peter\"\n",
    "for i in range (1,5,1):\n",
    "    print(name)                                    #name is already defined above as a string so no quotations needed.\n",
    "   "
   ]
  },
  {
   "cell_type": "code",
   "execution_count": 6,
   "id": "8b0c1389",
   "metadata": {},
   "outputs": [
    {
     "name": "stdout",
     "output_type": "stream",
     "text": [
      "mike\n",
      "Ken\n",
      "Jane\n",
      "Mary\n"
     ]
    }
   ],
   "source": [
    "name= \"Peter\"\n",
    "for i in [\"mike\",\"Ken\",\"Jane\",\"Mary\"]:\n",
    "    print(i)   "
   ]
  },
  {
   "cell_type": "code",
   "execution_count": 9,
   "id": "65584822",
   "metadata": {},
   "outputs": [
    {
     "name": "stdout",
     "output_type": "stream",
     "text": [
      "mike : mike\n",
      "Ken : Ken\n",
      "Jane : Jane\n",
      "Mary : Mary\n"
     ]
    }
   ],
   "source": [
    "name= \"Peter\"\n",
    "for i in [\"mike\",\"Ken\",\"Jane\",\"Mary\"]:\n",
    "    print(i +\" : \"+i)"
   ]
  },
  {
   "cell_type": "code",
   "execution_count": null,
   "id": "31f68c22",
   "metadata": {},
   "outputs": [],
   "source": []
  }
 ],
 "metadata": {
  "kernelspec": {
   "display_name": "Python 3",
   "language": "python",
   "name": "python3"
  },
  "language_info": {
   "codemirror_mode": {
    "name": "ipython",
    "version": 3
   },
   "file_extension": ".py",
   "mimetype": "text/x-python",
   "name": "python",
   "nbconvert_exporter": "python",
   "pygments_lexer": "ipython3",
   "version": "3.13.5"
  }
 },
 "nbformat": 4,
 "nbformat_minor": 5
}
