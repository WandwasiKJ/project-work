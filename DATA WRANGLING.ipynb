{
 "cells": [
  {
   "cell_type": "code",
   "execution_count": 112,
   "id": "dc5f2b6a",
   "metadata": {},
   "outputs": [],
   "source": [
    "# DATA WRANGLING\n",
    "import pandas as pd\n",
    "\n"
   ]
  },
  {
   "cell_type": "code",
   "execution_count": 113,
   "id": "a1b26fa6",
   "metadata": {},
   "outputs": [],
   "source": [
    "data = {\n",
    "    \"Student\": [\"Amina\", \"Brian\", \"Cathy\", \"Derrick\", \"Edna\"],\n",
    "    \"Age\": [21, None, 23, 22, None],\n",
    "    \"GPA\": [3.0, 3.2, None, 3.5, 3.1]\n",
    "}\n",
    "df = pd.DataFrame(data)\n"
   ]
  },
  {
   "cell_type": "code",
   "execution_count": 114,
   "id": "73ec8116",
   "metadata": {},
   "outputs": [
    {
     "data": {
      "text/html": [
       "<div>\n",
       "<style scoped>\n",
       "    .dataframe tbody tr th:only-of-type {\n",
       "        vertical-align: middle;\n",
       "    }\n",
       "\n",
       "    .dataframe tbody tr th {\n",
       "        vertical-align: top;\n",
       "    }\n",
       "\n",
       "    .dataframe thead th {\n",
       "        text-align: right;\n",
       "    }\n",
       "</style>\n",
       "<table border=\"1\" class=\"dataframe\">\n",
       "  <thead>\n",
       "    <tr style=\"text-align: right;\">\n",
       "      <th></th>\n",
       "      <th>Student</th>\n",
       "      <th>Age</th>\n",
       "      <th>GPA</th>\n",
       "    </tr>\n",
       "  </thead>\n",
       "  <tbody>\n",
       "    <tr>\n",
       "      <th>0</th>\n",
       "      <td>Amina</td>\n",
       "      <td>21.0</td>\n",
       "      <td>3.0</td>\n",
       "    </tr>\n",
       "    <tr>\n",
       "      <th>1</th>\n",
       "      <td>Brian</td>\n",
       "      <td>NaN</td>\n",
       "      <td>3.2</td>\n",
       "    </tr>\n",
       "    <tr>\n",
       "      <th>2</th>\n",
       "      <td>Cathy</td>\n",
       "      <td>23.0</td>\n",
       "      <td>NaN</td>\n",
       "    </tr>\n",
       "    <tr>\n",
       "      <th>3</th>\n",
       "      <td>Derrick</td>\n",
       "      <td>22.0</td>\n",
       "      <td>3.5</td>\n",
       "    </tr>\n",
       "    <tr>\n",
       "      <th>4</th>\n",
       "      <td>Edna</td>\n",
       "      <td>NaN</td>\n",
       "      <td>3.1</td>\n",
       "    </tr>\n",
       "  </tbody>\n",
       "</table>\n",
       "</div>"
      ],
      "text/plain": [
       "   Student   Age  GPA\n",
       "0    Amina  21.0  3.0\n",
       "1    Brian   NaN  3.2\n",
       "2    Cathy  23.0  NaN\n",
       "3  Derrick  22.0  3.5\n",
       "4     Edna   NaN  3.1"
      ]
     },
     "execution_count": 114,
     "metadata": {},
     "output_type": "execute_result"
    }
   ],
   "source": [
    "df"
   ]
  },
  {
   "cell_type": "code",
   "execution_count": 115,
   "id": "a8dec44d",
   "metadata": {},
   "outputs": [],
   "source": [
    "# Drop rows with any missing values\n",
    "without_values= df.dropna()\n",
    "\n",
    "\n"
   ]
  },
  {
   "cell_type": "code",
   "execution_count": 116,
   "id": "15757abe",
   "metadata": {},
   "outputs": [
    {
     "data": {
      "text/html": [
       "<div>\n",
       "<style scoped>\n",
       "    .dataframe tbody tr th:only-of-type {\n",
       "        vertical-align: middle;\n",
       "    }\n",
       "\n",
       "    .dataframe tbody tr th {\n",
       "        vertical-align: top;\n",
       "    }\n",
       "\n",
       "    .dataframe thead th {\n",
       "        text-align: right;\n",
       "    }\n",
       "</style>\n",
       "<table border=\"1\" class=\"dataframe\">\n",
       "  <thead>\n",
       "    <tr style=\"text-align: right;\">\n",
       "      <th></th>\n",
       "      <th>Student</th>\n",
       "      <th>Age</th>\n",
       "      <th>GPA</th>\n",
       "    </tr>\n",
       "  </thead>\n",
       "  <tbody>\n",
       "    <tr>\n",
       "      <th>0</th>\n",
       "      <td>Amina</td>\n",
       "      <td>21.0</td>\n",
       "      <td>3.0</td>\n",
       "    </tr>\n",
       "    <tr>\n",
       "      <th>3</th>\n",
       "      <td>Derrick</td>\n",
       "      <td>22.0</td>\n",
       "      <td>3.5</td>\n",
       "    </tr>\n",
       "  </tbody>\n",
       "</table>\n",
       "</div>"
      ],
      "text/plain": [
       "   Student   Age  GPA\n",
       "0    Amina  21.0  3.0\n",
       "3  Derrick  22.0  3.5"
      ]
     },
     "execution_count": 116,
     "metadata": {},
     "output_type": "execute_result"
    }
   ],
   "source": [
    "without_values"
   ]
  },
  {
   "cell_type": "code",
   "execution_count": 117,
   "id": "a21d6963",
   "metadata": {},
   "outputs": [
    {
     "data": {
      "text/html": [
       "<div>\n",
       "<style scoped>\n",
       "    .dataframe tbody tr th:only-of-type {\n",
       "        vertical-align: middle;\n",
       "    }\n",
       "\n",
       "    .dataframe tbody tr th {\n",
       "        vertical-align: top;\n",
       "    }\n",
       "\n",
       "    .dataframe thead th {\n",
       "        text-align: right;\n",
       "    }\n",
       "</style>\n",
       "<table border=\"1\" class=\"dataframe\">\n",
       "  <thead>\n",
       "    <tr style=\"text-align: right;\">\n",
       "      <th></th>\n",
       "      <th>Student</th>\n",
       "      <th>Age</th>\n",
       "      <th>GPA</th>\n",
       "    </tr>\n",
       "  </thead>\n",
       "  <tbody>\n",
       "    <tr>\n",
       "      <th>0</th>\n",
       "      <td>Amina</td>\n",
       "      <td>21.0</td>\n",
       "      <td>3.0</td>\n",
       "    </tr>\n",
       "    <tr>\n",
       "      <th>1</th>\n",
       "      <td>Brian</td>\n",
       "      <td>NaN</td>\n",
       "      <td>3.2</td>\n",
       "    </tr>\n",
       "    <tr>\n",
       "      <th>2</th>\n",
       "      <td>Cathy</td>\n",
       "      <td>23.0</td>\n",
       "      <td>NaN</td>\n",
       "    </tr>\n",
       "    <tr>\n",
       "      <th>3</th>\n",
       "      <td>Derrick</td>\n",
       "      <td>22.0</td>\n",
       "      <td>3.5</td>\n",
       "    </tr>\n",
       "    <tr>\n",
       "      <th>4</th>\n",
       "      <td>Edna</td>\n",
       "      <td>NaN</td>\n",
       "      <td>3.1</td>\n",
       "    </tr>\n",
       "  </tbody>\n",
       "</table>\n",
       "</div>"
      ],
      "text/plain": [
       "   Student   Age  GPA\n",
       "0    Amina  21.0  3.0\n",
       "1    Brian   NaN  3.2\n",
       "2    Cathy  23.0  NaN\n",
       "3  Derrick  22.0  3.5\n",
       "4     Edna   NaN  3.1"
      ]
     },
     "execution_count": 117,
     "metadata": {},
     "output_type": "execute_result"
    }
   ],
   "source": [
    "#resulting DataFrame.\n",
    "df"
   ]
  },
  {
   "cell_type": "code",
   "execution_count": 118,
   "id": "e7bc5c0e",
   "metadata": {},
   "outputs": [
    {
     "name": "stdout",
     "output_type": "stream",
     "text": [
      "   Student   Age  GPA\n",
      "0    Amina  21.0  3.0\n",
      "1    Brian  22.0  3.2\n",
      "2    Cathy  23.0  NaN\n",
      "3  Derrick  22.0  3.5\n",
      "4     Edna  22.0  3.1\n"
     ]
    },
    {
     "name": "stderr",
     "output_type": "stream",
     "text": [
      "C:\\Users\\HP\\AppData\\Local\\Temp\\ipykernel_11604\\2390210643.py:5: FutureWarning: A value is trying to be set on a copy of a DataFrame or Series through chained assignment using an inplace method.\n",
      "The behavior will change in pandas 3.0. This inplace method will never work because the intermediate object on which we are setting values always behaves as a copy.\n",
      "\n",
      "For example, when doing 'df[col].method(value, inplace=True)', try using 'df.method({col: value}, inplace=True)' or df[col] = df[col].method(value) instead, to perform the operation inplace on the original object.\n",
      "\n",
      "\n",
      "  df_copy['Age'].fillna(df_copy['Age'].mean(), inplace=True)\n"
     ]
    }
   ],
   "source": [
    "#exercise 2.1.2\n",
    "# fill with mean or median.\n",
    "#a)\n",
    "df_copy = df.copy()\n",
    "df_copy['Age'].fillna(df_copy['Age'].mean(), inplace=True)\n",
    "\n",
    "\n",
    "print(df_copy)\n"
   ]
  },
  {
   "cell_type": "code",
   "execution_count": 119,
   "id": "408b6e08",
   "metadata": {},
   "outputs": [
    {
     "name": "stdout",
     "output_type": "stream",
     "text": [
      "   Student   Age   GPA\n",
      "0    Amina  21.0  3.00\n",
      "1    Brian  22.0  3.20\n",
      "2    Cathy  23.0  3.15\n",
      "3  Derrick  22.0  3.50\n",
      "4     Edna  22.0  3.10\n"
     ]
    },
    {
     "name": "stderr",
     "output_type": "stream",
     "text": [
      "C:\\Users\\HP\\AppData\\Local\\Temp\\ipykernel_11604\\3621451858.py:2: FutureWarning: A value is trying to be set on a copy of a DataFrame or Series through chained assignment using an inplace method.\n",
      "The behavior will change in pandas 3.0. This inplace method will never work because the intermediate object on which we are setting values always behaves as a copy.\n",
      "\n",
      "For example, when doing 'df[col].method(value, inplace=True)', try using 'df.method({col: value}, inplace=True)' or df[col] = df[col].method(value) instead, to perform the operation inplace on the original object.\n",
      "\n",
      "\n",
      "  df_copy['GPA'].fillna(df_copy['GPA'].median(), inplace=True)\n"
     ]
    }
   ],
   "source": [
    "# b)\tFill missing GPA with the median GPA\n",
    "df_copy['GPA'].fillna(df_copy['GPA'].median(), inplace=True)\n",
    "\n",
    "print(df_copy)\n"
   ]
  },
  {
   "cell_type": "code",
   "execution_count": 122,
   "id": "527bb704",
   "metadata": {},
   "outputs": [
    {
     "data": {
      "text/html": [
       "<div>\n",
       "<style scoped>\n",
       "    .dataframe tbody tr th:only-of-type {\n",
       "        vertical-align: middle;\n",
       "    }\n",
       "\n",
       "    .dataframe tbody tr th {\n",
       "        vertical-align: top;\n",
       "    }\n",
       "\n",
       "    .dataframe thead th {\n",
       "        text-align: right;\n",
       "    }\n",
       "</style>\n",
       "<table border=\"1\" class=\"dataframe\">\n",
       "  <thead>\n",
       "    <tr style=\"text-align: right;\">\n",
       "      <th></th>\n",
       "      <th>Student</th>\n",
       "      <th>Age</th>\n",
       "      <th>GPA</th>\n",
       "    </tr>\n",
       "  </thead>\n",
       "  <tbody>\n",
       "    <tr>\n",
       "      <th>0</th>\n",
       "      <td>Amina</td>\n",
       "      <td>21.0</td>\n",
       "      <td>3.00</td>\n",
       "    </tr>\n",
       "    <tr>\n",
       "      <th>1</th>\n",
       "      <td>Brian</td>\n",
       "      <td>22.0</td>\n",
       "      <td>3.20</td>\n",
       "    </tr>\n",
       "    <tr>\n",
       "      <th>2</th>\n",
       "      <td>Cathy</td>\n",
       "      <td>23.0</td>\n",
       "      <td>3.15</td>\n",
       "    </tr>\n",
       "    <tr>\n",
       "      <th>3</th>\n",
       "      <td>Derrick</td>\n",
       "      <td>22.0</td>\n",
       "      <td>3.50</td>\n",
       "    </tr>\n",
       "    <tr>\n",
       "      <th>4</th>\n",
       "      <td>Edna</td>\n",
       "      <td>22.0</td>\n",
       "      <td>3.10</td>\n",
       "    </tr>\n",
       "  </tbody>\n",
       "</table>\n",
       "</div>"
      ],
      "text/plain": [
       "   Student   Age   GPA\n",
       "0    Amina  21.0  3.00\n",
       "1    Brian  22.0  3.20\n",
       "2    Cathy  23.0  3.15\n",
       "3  Derrick  22.0  3.50\n",
       "4     Edna  22.0  3.10"
      ]
     },
     "execution_count": 122,
     "metadata": {},
     "output_type": "execute_result"
    }
   ],
   "source": [
    "#the updated DataFrame\n",
    "df_copy"
   ]
  },
  {
   "cell_type": "code",
   "execution_count": 124,
   "id": "b15da1a4",
   "metadata": {},
   "outputs": [
    {
     "name": "stdout",
     "output_type": "stream",
     "text": [
      "Student    0\n",
      "Age        2\n",
      "GPA        1\n",
      "dtype: int64\n"
     ]
    }
   ],
   "source": [
    "#Exercise 2.1.3: Check and Count Nulls\n",
    "missing_counts = df.isnull().sum()\n",
    "\n",
    "print(missing_counts)\n"
   ]
  },
  {
   "cell_type": "code",
   "execution_count": null,
   "id": "0967dfee",
   "metadata": {},
   "outputs": [],
   "source": [
    "# age column has the most missing values\n",
    "# Action: Fill with appropriate strategy based on data type(mean age)\n"
   ]
  },
  {
   "cell_type": "code",
   "execution_count": 2,
   "id": "b5545793",
   "metadata": {},
   "outputs": [
    {
     "name": "stdout",
     "output_type": "stream",
     "text": [
      "Outliers:\n",
      "    Salary\n",
      "3   80000\n"
     ]
    }
   ],
   "source": [
    "# EXERCISE 2.2.1:Detect Outliers\n",
    "\n",
    "import pandas as pd\n",
    "\n",
    "df = pd.DataFrame({\n",
    "    \"Salary\": [4000, 4200, 4100, 80000, 4300, 4150]\n",
    "})\n",
    "\n",
    "# Calculate Q1 (25th percentile) and Q3 (75th percentile)\n",
    "Q1 = df[\"Salary\"].quantile(0.25)\n",
    "Q3 = df[\"Salary\"].quantile(0.75)\n",
    "IQR = Q3 - Q1\n",
    "\n",
    "# Determine the outlier bounds\n",
    "lower_bound = Q1 - 1.5 * IQR\n",
    "upper_bound = Q3 + 1.5 * IQR\n",
    "\n",
    "# Detect outliers\n",
    "outliers = df[(df[\"Salary\"] < lower_bound) | (df[\"Salary\"] > upper_bound)]\n",
    "print(\"Outliers:\\n\", outliers)"
   ]
  },
  {
   "cell_type": "code",
   "execution_count": 5,
   "id": "c398ba3e",
   "metadata": {},
   "outputs": [
    {
     "name": "stdout",
     "output_type": "stream",
     "text": [
      "    Age\n",
      "0    25\n",
      "1    30\n",
      "2    -5\n",
      "3  1000\n",
      "4    40\n"
     ]
    }
   ],
   "source": [
    "#Exercise 2.2.2: Correct Implausible Values\n",
    "df = pd.DataFrame({\n",
    "    \"Age\": [25, 30, -5, 1000, 40]\n",
    "})\n",
    "print(df)"
   ]
  },
  {
   "cell_type": "code",
   "execution_count": 8,
   "id": "9e3a4c30",
   "metadata": {},
   "outputs": [
    {
     "name": "stdout",
     "output_type": "stream",
     "text": [
      "    Age\n",
      "0  25.0\n",
      "1  30.0\n",
      "2  30.0\n",
      "3  30.0\n",
      "4  40.0\n"
     ]
    }
   ],
   "source": [
    "#•\tReplace negative and >120 values in the Age column with the median age\n",
    "import pandas as pd\n",
    "\n",
    "df = pd.DataFrame({\n",
    "    \"Age\": [25, 30, -5, 1000, 40]\n",
    "})\n",
    "\n",
    "# Identify valid ages (between 0 and 120 inclusive)\n",
    "valid_ages = df[\"Age\"][(df[\"Age\"] >= 0) & (df[\"Age\"] <= 120)]\n",
    "\n",
    "# Calculate the median of valid ages\n",
    "median_age = valid_ages.median()\n",
    "\n",
    "# Replace invalid ages with the median\n",
    "df[\"Age\"] = df[\"Age\"].apply(lambda x: median_age if x < 0 or x > 120 else x)\n",
    "\n",
    "print(df)"
   ]
  },
  {
   "cell_type": "code",
   "execution_count": 9,
   "id": "07f3c9ed",
   "metadata": {},
   "outputs": [
    {
     "name": "stdout",
     "output_type": "stream",
     "text": [
      "    Age\n",
      "0  25.0\n",
      "1  30.0\n",
      "2   NaN\n",
      "3  45.0\n",
      "4  32.0\n"
     ]
    }
   ],
   "source": [
    "#Exercise 2.2.3: Format Correction\n",
    "import pandas as pd\n",
    "\n",
    "df = pd.DataFrame({\n",
    "    \"Age\": [\"25\", \"30\", \"Twenty-Five\", \"45\", \"32\"]\n",
    "})\n",
    "\n",
    "# Convert valid string numbers to integers, invalid strings to NaN\n",
    "df[\"Age\"] = pd.to_numeric(df[\"Age\"], errors='coerce')\n",
    "\n",
    "print(df)"
   ]
  },
  {
   "cell_type": "code",
   "execution_count": 10,
   "id": "96cd12f2",
   "metadata": {},
   "outputs": [
    {
     "name": "stdout",
     "output_type": "stream",
     "text": [
      "   Income  Normalized_Income\n",
      "0   20000               0.00\n",
      "1   30000               0.50\n",
      "2   25000               0.25\n",
      "3   40000               1.00\n"
     ]
    }
   ],
   "source": [
    "#2.3. Transforming Quantitative Variables\n",
    "#Exercise 2.3.1: Normalize Values\n",
    "import pandas as pd\n",
    "\n",
    "df = pd.DataFrame({\n",
    "    \"Income\": [20000, 30000, 25000, 40000]\n",
    "})\n",
    "\n",
    "# Min-max normalization\n",
    "df[\"Normalized_Income\"] = (df[\"Income\"] - df[\"Income\"].min()) / (df[\"Income\"].max() - df[\"Income\"].min())\n",
    "\n",
    "print(df)"
   ]
  },
  {
   "cell_type": "code",
   "execution_count": 11,
   "id": "67e628d4",
   "metadata": {},
   "outputs": [
    {
     "name": "stdout",
     "output_type": "stream",
     "text": [
      "   Age Age_Group\n",
      "0    5     Child\n",
      "1   20     Adult\n",
      "2   67    Senior\n",
      "3   15     Adult\n",
      "4   40     Adult\n",
      "5   80    Senior\n"
     ]
    }
   ],
   "source": [
    "#Exercise 2.3.2: Convert to Categories\n",
    "import pandas as pd\n",
    "\n",
    "df = pd.DataFrame({\n",
    "    \"Age\": [5, 20, 67, 15, 40, 80]\n",
    "})\n",
    "\n",
    "# Define bins and labels\n",
    "bins = [0, 11, 59, float('inf')]\n",
    "labels = ['Child', 'Adult', 'Senior']\n",
    "\n",
    "# Apply categorization\n",
    "df['Age_Group'] = pd.cut(df['Age'], bins=bins, labels=labels, right=True, include_lowest=True)\n",
    "\n",
    "print(df)"
   ]
  },
  {
   "cell_type": "code",
   "execution_count": 16,
   "id": "003d37c5",
   "metadata": {},
   "outputs": [
    {
     "name": "stdout",
     "output_type": "stream",
     "text": [
      "   Income  Income_k\n",
      "0   20000      20.0\n",
      "1   30000      30.0\n",
      "2   25000      25.0\n",
      "3   40000      40.0\n"
     ]
    }
   ],
   "source": [
    "#Exercise 2.3.3: Simplify Large Values\n",
    "import pandas as pd\n",
    "\n",
    "df = pd.DataFrame({\n",
    "    \"Income\": [20000, 30000, 25000, 40000]\n",
    "})\n",
    "df[\"Income_k\"] = df[\"Income\"] / 1000\n",
    "print(df)"
   ]
  }
 ],
 "metadata": {
  "kernelspec": {
   "display_name": "Python 3",
   "language": "python",
   "name": "python3"
  },
  "language_info": {
   "codemirror_mode": {
    "name": "ipython",
    "version": 3
   },
   "file_extension": ".py",
   "mimetype": "text/x-python",
   "name": "python",
   "nbconvert_exporter": "python",
   "pygments_lexer": "ipython3",
   "version": "3.13.5"
  }
 },
 "nbformat": 4,
 "nbformat_minor": 5
}
